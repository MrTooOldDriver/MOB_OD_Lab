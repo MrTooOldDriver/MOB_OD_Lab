{
 "cells": [
  {
   "cell_type": "markdown",
   "metadata": {
    "pycharm": {
     "name": "#%% md\n"
    }
   },
   "source": [
    "TODO:\n",
    "\n",
    "\n",
    "\n",
    "funtions for students to write:\n",
    "\n",
    "\n",
    "\n",
    "1. box filter -> filter box based on threshold and boxes\n",
    "\n",
    "2. iou -> calculate iou\n",
    "\n",
    "3. nms -> write nms function but using tensorflow nms (or ask them write them self?)\n",
    "\n",
    "4. calculate mAP mAP_r40 (optional)\n",
    "\n",
    "5. predict -> assemble above function. input image, run yolo, box filyer, nms, box coordinate\n",
    "\n",
    "6. mAP\n",
    "\n",
    "6. eval -> eval mAP metrics\n",
    "\n",
    "function provided by us:\n",
    "\n",
    "plot_on_image -> display boxs on image\n",
    "\n"
   ]
  },
  {
   "cell_type": "markdown",
   "metadata": {
    "pycharm": {
     "name": "#%% md\n"
    }
   },
   "source": [
    "## Lab - Object Detection with CARLA Dataset\n",
    "\n",
    "In this lab session you will be learning about implementing (part of) YOLO model and trying to detect cars from the dataset obtaining from CARLA simulator!\n",
    "\n",
    "We have discussed many of YOLO ideas in the lecture. If you wish to learn more about it, there are the link to YOLO papers:\n",
    "\n",
    "https://arxiv.org/abs/1506.02640\n",
    "\n",
    "https://arxiv.org/abs/1612.08242\n",
    "\n",
    "In the lab we won't dive into too much details about how to train a YOLO model, as its a very time consuming process and required lots computation resources.\n",
    "\n",
    "We will be using a pretrained model from YOLO official website for our experiment.\n",
    "\n",
    "The dataset we will be using to evaluating the model is collecting from CARLA simulator. Collected by Jean-Emmanuel Deschaud\n",
    "\n",
    "https://arxiv.org/abs/2109.00892\n",
    "\n",
    "CARLA simulator is an open-source simulator for autonomous driving research and its excellent playground if you wish play around with autonomous driving.\n",
    "\n",
    "You could find more about CARLA simulator here.\n",
    "\n",
    "https://carla.org/"
   ]
  },
  {
   "cell_type": "markdown",
   "metadata": {
    "pycharm": {
     "name": "#%% md\n"
    }
   },
   "source": [
    "**In this lab you will be learning about**:\n",
    "\n",
    "- Implementing function for filtering bounding boxes based on scores\n",
    "\n",
    "- Implementing function for calculating intersection over union\n",
    "\n",
    "- Implementing function for non-max suppression to improve accuracy\n",
    "\n",
    "- Implementing mAP metrics for evaluating our model\n",
    "\n",
    "- Detect objects in CARLA dataset\n",
    "\n",
    "- Evaluating our detections with grounds truth\n"
   ]
  },
  {
   "cell_type": "markdown",
   "metadata": {
    "pycharm": {
     "name": "#%% md\n"
    }
   },
   "source": [
    "## Import Packages\n",
    "\n",
    "First, let we start with importing necessary packages"
   ]
  },
  {
   "cell_type": "code",
   "execution_count": 1,
   "metadata": {
    "pycharm": {
     "name": "#%%\n"
    }
   },
   "outputs": [],
   "source": [
    "import argparse\n",
    "import os\n",
    "import matplotlib.pyplot as plt\n",
    "from matplotlib.pyplot import imshow\n",
    "import scipy.io\n",
    "import scipy.misc\n",
    "import numpy as np\n",
    "import pandas as pd\n",
    "import PIL\n",
    "from PIL import ImageFont, ImageDraw, Image\n",
    "import tensorflow as tf\n",
    "from tensorflow.python.framework.ops import EagerTensor\n",
    "\n",
    "from tensorflow.keras.models import load_model\n",
    "from yad2k.models.keras_yolo import yolo_head, yolo_boxes_to_corners\n",
    "from yad2k.utils.utils import draw_boxes, get_colors_for_classes, scale_boxes, read_classes, read_anchors, preprocess_image\n",
    "\n",
    "%matplotlib inline"
   ]
  },
  {
   "cell_type": "markdown",
   "metadata": {
    "pycharm": {
     "name": "#%% md\n"
    }
   },
   "source": [
    "## 1 - YOLO Model Details\n",
    "\n",
    "Before we start, let us briefly learn about how YOLO model works in detail. \n",
    "\n",
    "\"You Only Look Once\" (YOLO) is a popular algorithm because it achieves high accuracy while also being able to run in real-time. This algorithm \"only looks once\" at the image in the sense that it requires only one forward propagation pass through the network to make predictions. \n",
    "\n",
    "After non-max suppression, it then outputs recognized objects together with the bounding boxes.\n",
    "\n",
    "### Model Details\n",
    "\n",
    "#### Inputs and outputs\n",
    "- The **input** is a batch of images, and each image has the shape (m, 608, 608, 3)\n",
    "- The **output** is a list of bounding boxes along with the recognized classes. Each bounding box is represented by 6 numbers $(p_c, b_x, b_y, b_h, b_w, c)$ as explained above. If you expand $c$ into an 80-dimensional vector, each bounding box is then represented by 85 numbers.\n",
    "\n",
    "#### Anchor Boxes\n",
    "* Anchor boxes are chosen by exploring the training data to choose reasonable height/width ratios that represent the different classes.  For this assignment, 5 anchor boxes were chosen for you (to cover the 80 classes), and stored in the file './model_data/yolo_anchors.txt'\n",
    "* The dimension for anchor boxes is the second to last dimension in the encoding: $(m, n_H,n_W,anchors,classes)$.\n",
    "* The YOLO architecture is: IMAGE (m, 608, 608, 3) -> DEEP CNN -> ENCODING (m, 19, 19, 5, 85).\n",
    "\n",
    "\n",
    "#### Encoding\n",
    "Let's look in greater detail at what this encoding represents.\n",
    "<img src=\"nb_images/architecture.png\" style=\"width:700px;height:400;\">\n",
    "<caption><center> <u><b> Figure 1 </u></b>: Encoding architecture for YOLO<br> </center></caption>"
   ]
  },
  {
   "cell_type": "markdown",
   "metadata": {
    "pycharm": {
     "name": "#%% md\n"
    }
   },
   "source": [
    "If the center/midpoint of an object falls into a grid cell, that grid cell is responsible for detecting that object.\n",
    "\n",
    "Since you're using 5 anchor boxes, each of the 19 x19 cells thus encodes information about 5 boxes. Anchor boxes are defined only by their width and height.\n",
    "\n",
    "For simplicity, you'll flatten the last two dimensions of the shape (19, 19, 5, 85) encoding, so the output of the Deep CNN is (19, 19, 425).\n",
    "\n",
    "<img src=\"nb_images/flatten.png\" style=\"width:700px;height:400;\">\n",
    "<caption><center> <u><b> Figure 2 </u></b>: Flattening the last two last dimensions<br> </center></caption>"
   ]
  },
  {
   "cell_type": "markdown",
   "metadata": {
    "pycharm": {
     "name": "#%% md\n"
    }
   },
   "source": [
    "#### Class score\n",
    "\n",
    "Now, for each box (of each cell) you'll compute the following element-wise product and extract a probability that the box contains a certain class.  \n",
    "The class score is $score_{c,i} = p_{c} \\times c_{i}$: the probability that there is an object $p_{c}$ times the probability that the object is a certain class $c_{i}$.\n",
    "\n",
    "<img src=\"nb_images/probability_extraction.png\" style=\"width:700px;height:400;\">\n",
    "<caption><center> <u><b>Figure 3</u></b>: Find the class detected by each box<br> </center></caption>\n",
    "\n",
    "##### Example of figure 3\n",
    "* In figure 3, let's say for box 1 (cell 1), the probability that an object exists is $p_{1}=0.60$.  So there's a 60% chance that an object exists in box 1 (cell 1).  \n",
    "* The probability that the object is the class \"category 3 (a car)\" is $c_{3}=0.73$.  \n",
    "* The score for box 1 and for category \"3\" is $score_{1,3}=0.60 \\times 0.73 = 0.44$.  \n",
    "* Let's say you calculate the score for all 80 classes in box 1, and find that the score for the car class (class 3) is the maximum.  So you'll assign the score 0.44 and class \"3\" to this box \"1\"."
   ]
  },
  {
   "cell_type": "markdown",
   "metadata": {
    "pycharm": {
     "name": "#%% md\n"
    }
   },
   "source": [
    "#### Visualizing classes\n",
    "Here's one way to visualize what YOLO is predicting on an image:\n",
    "\n",
    "- For each of the 19x19 grid cells, find the maximum of the probability scores (taking a max across the 80 classes, one maximum for each of the 5 anchor boxes).\n",
    "- Color that grid cell according to what object that grid cell considers the most likely.\n",
    "\n",
    "Doing this results in this picture: \n",
    "\n",
    "<img src=\"nb_images/proba_map.png\" style=\"width:300px;height:300;\">\n",
    "<caption><center> <u><b>Figure 4</u></b>: Each one of the 19x19 grid cells is colored according to which class has the largest predicted probability in that cell.<br> </center></caption>\n",
    "\n",
    "Note that this visualization isn't a core part of the YOLO algorithm itself for making predictions; it's just a nice way of visualizing an intermediate result of the algorithm. "
   ]
  },
  {
   "cell_type": "markdown",
   "metadata": {
    "pycharm": {
     "name": "#%% md\n"
    }
   },
   "source": [
    "#### Visualizing bounding boxes\n",
    "Another way to visualize YOLO's output is to plot the bounding boxes that it outputs. Doing that results in a visualization like this:  \n",
    "\n",
    "<img src=\"nb_images/anchor_map.png\" style=\"width:200px;height:200;\">\n",
    "<caption><center> <u><b>Figure 5</u></b>: Each cell gives you 5 boxes. In total, the model predicts: 19x19x5 = 1805 boxes just by looking once at the image (one forward pass through the network)! Different colors denote different classes. <br> </center></caption>\n",
    "\n",
    "#### Non-Max suppression\n",
    "In the figure above, the only boxes plotted are ones for which the model had assigned a high probability, but this is still too many boxes. You'd like to reduce the algorithm's output to a much smaller number of detected objects.  \n",
    "\n",
    "To do so, you'll use **non-max suppression**. Specifically, you'll carry out these steps: \n",
    "- Get rid of boxes with a low score. Meaning, the box is not very confident about detecting a class, either due to the low probability of any object, or low probability of this particular class.\n",
    "- Select only one box when several boxes overlap with each other and detect the same object."
   ]
  },
  {
   "cell_type": "markdown",
   "metadata": {
    "pycharm": {
     "name": "#%% md\n"
    }
   },
   "source": [
    "## 2 - Filtering bounding boxes\n",
    "\n",
    "Let us start with filtering out some bounding boxes based on predicted score. \n",
    "\n",
    "Write a function to get rid of any box while the class \"scores\" is less than a chosen threshold.\n",
    "\n",
    "**Exercise**: Implement yolo_filter_boxes() function\n",
    "\n",
    "1. Compute box scores by doing the elementwise prodcu as descirebed in Figure 3 ($p \\times c$).\n",
    "The following code may help you choose the right operator: \n",
    "```python\n",
    "a = np.random.randn(19, 19, 5, 1)\n",
    "b = np.random.randn(19, 19, 5, 80)\n",
    "c = a * b # shape of c will be (19, 19, 5, 80)\n",
    "```\n",
    "This is an example of **broadcasting** (multiplying vectors of different sizes).\n",
    "\n",
    "\n",
    "2. For each box, find:\n",
    "    - the index of the class with the maximum box score\n",
    "    - the corresponding box score\n",
    "    - For the `axis` parameter of [tf.math.argmax](https://www.tensorflow.org/api_docs/python/tf/math/argmax) and [tf.math.reduce_max](https://www.tensorflow.org/api_docs/python/tf/math/reduce_max), if you want to select the **last** axis, one way to do so is to set `axis=-1`.  This is similar to Python array indexing, where you can select the last position of an array using `arrayname[-1]`.\n",
    "    - Applying [tf.math.reduce_max](https://www.tensorflow.org/api_docs/python/tf/math/reduce_max) normally collapses the axis for which the maximum is applied.  `keepdims=False` is the default option, and allows that dimension to be removed.  You don't need to keep the last dimension after applying the maximum here.\n",
    "\n",
    "3. Create a mask by using a threshold. As a reminder: `([0.9, 0.3, 0.4, 0.5, 0.1] < 0.4)` returns: `[False, True, False, False, True]`. The mask should be `True` for the boxes you want to keep. \n",
    "\n",
    "4. Use TensorFlow to apply the mask to `box_class_scores`, `boxes` and `box_classes` to filter out the boxes you don't want. You should be left with just the subset of boxes you want to keep.\n",
    "    - [tf.boolean mask](https://www.tensorflow.org/api_docs/python/tf/boolean_mask)\n",
    "    - For the `tf.boolean_mask`, you can keep the default `axis=None`."
   ]
  },
  {
   "cell_type": "code",
   "execution_count": 2,
   "metadata": {
    "pycharm": {
     "name": "#%%\n"
    }
   },
   "outputs": [],
   "source": [
    "def yolo_filter_boxes(boxes, box_confidence, box_class_probs, threshold=0.6):\n",
    "    \"\"\"Filters YOLO boxes by thresholding on object and class confidence.\n",
    "    \n",
    "    Arguments:\n",
    "        boxes -- tensor of shape (19, 19, 5, 4)\n",
    "        box_confidence -- tensor of shape (19, 19, 5, 1)\n",
    "        box_class_probs -- tensor of shape (19, 19, 5, 80)\n",
    "        threshold -- real value, if [ highest class probability score < threshold],\n",
    "                     then get rid of the corresponding box\n",
    "\n",
    "    Returns:\n",
    "        scores -- tensor of shape (None,), containing the class probability score for selected boxes\n",
    "        boxes -- tensor of shape (None, 4), containing (b_x, b_y, b_h, b_w) coordinates of selected boxes\n",
    "        classes -- tensor of shape (None,), containing the index of the class detected by the selected boxes\n",
    "\n",
    "    Note: \"None\" is here because you don't know the exact number of selected boxes, as it depends on the threshold. \n",
    "    For example, the actual output size of scores would be (10,) if there are 10 boxes.\n",
    "    \"\"\"\n",
    "\n",
    "    x = 10\n",
    "    y = tf.constant(100)\n",
    "\n",
    "    # YOUR CODE STARTS HERE\n",
    "\n",
    "    # Step 1: Compute box scores\n",
    "    ##(≈ 1 line)\n",
    "    box_scores = box_class_probs * box_confidence\n",
    "\n",
    "    # Step 2: Find the box_classes using the max box_scores, keep track of the corresponding score\n",
    "    ##(≈ 2 lines)\n",
    "    box_classes = tf.math.argmax(box_scores, axis=-1)\n",
    "    box_class_scores = tf.math.reduce_max(box_scores, axis=-1)\n",
    "\n",
    "    # Step 3: Create a filtering mask based on \"box_class_scores\" by using \"threshold\". The mask should have the\n",
    "    # same dimension as box_class_scores, and be True for the boxes you want to keep (with probability >= threshold)\n",
    "    ## (≈ 1 line)\n",
    "    filtering_mask = (box_class_scores >= threshold)\n",
    "\n",
    "    # Step 4: Apply the mask to box_class_scores, boxes and box_classes\n",
    "    ## (≈ 3 lines)\n",
    "    scores = tf.boolean_mask(box_class_scores, filtering_mask)\n",
    "    boxes = tf.boolean_mask(boxes, filtering_mask)\n",
    "    classes = tf.boolean_mask(box_classes, filtering_mask)\n",
    "\n",
    "    # YOUR CODE ENDS HERE\n",
    "\n",
    "    return scores, boxes, classes"
   ]
  },
  {
   "cell_type": "code",
   "execution_count": 3,
   "metadata": {
    "pycharm": {
     "name": "#%%\n"
    }
   },
   "outputs": [
    {
     "name": "stdout",
     "output_type": "stream",
     "text": [
      "scores[2] = 9.270486\n",
      "boxes[2] = [ 4.639934   3.2303846  4.431282  -2.2020311]\n",
      "classes[2] = 8\n",
      "scores.shape = (1789,)\n",
      "boxes.shape = (1789, 4)\n",
      "classes.shape = (1789,)\n",
      "\u001B[92m All tests passed!\n"
     ]
    }
   ],
   "source": [
    "tf.random.set_seed(10)\n",
    "box_confidence = tf.random.normal([19, 19, 5, 1], mean=1, stddev=4, seed=1)\n",
    "boxes = tf.random.normal([19, 19, 5, 4], mean=1, stddev=4, seed=1)\n",
    "box_class_probs = tf.random.normal([19, 19, 5, 80], mean=1, stddev=4, seed=1)\n",
    "scores, boxes, classes = yolo_filter_boxes(boxes, box_confidence, box_class_probs, threshold=0.5)\n",
    "print(\"scores[2] = \" + str(scores[2].numpy()))\n",
    "print(\"boxes[2] = \" + str(boxes[2].numpy()))\n",
    "print(\"classes[2] = \" + str(classes[2].numpy()))\n",
    "print(\"scores.shape = \" + str(scores.shape))\n",
    "print(\"boxes.shape = \" + str(boxes.shape))\n",
    "print(\"classes.shape = \" + str(classes.shape))\n",
    "\n",
    "assert type(scores) == EagerTensor, \"Use tensorflow functions\"\n",
    "assert type(boxes) == EagerTensor, \"Use tensorflow functions\"\n",
    "assert type(classes) == EagerTensor, \"Use tensorflow functions\"\n",
    "\n",
    "assert scores.shape == (1789,), \"Wrong shape in scores\"\n",
    "assert boxes.shape == (1789, 4), \"Wrong shape in boxes\"\n",
    "assert classes.shape == (1789,), \"Wrong shape in classes\"\n",
    "\n",
    "assert np.isclose(scores[2].numpy(), 9.270486), \"Values are wrong on scores\"\n",
    "assert np.allclose(boxes[2].numpy(), [4.6399336, 3.2303846, 4.431282, -2.202031]), \"Values are wrong on boxes\"\n",
    "assert classes[2].numpy() == 8, \"Values are wrong on classes\"\n",
    "\n",
    "print(\"\\033[92m All tests passed!\")"
   ]
  },
  {
   "cell_type": "markdown",
   "metadata": {
    "pycharm": {
     "name": "#%% md\n"
    }
   },
   "source": [
    "**Expected Output**:\n",
    "\n",
    "```\n",
    "scores[2] = 9.270486\n",
    "boxes[2] = [ 4.639934   3.2303846  4.431282  -2.2020311]\n",
    "classes[2] = 8\n",
    "scores.shape = (1789,)\n",
    "boxes.shape = (1789, 4)\n",
    "classes.shape = (1789,)\n",
    "```"
   ]
  },
  {
   "cell_type": "markdown",
   "metadata": {
    "pycharm": {
     "name": "#%% md\n"
    }
   },
   "source": [
    "## 3 - Intersection over Union (IoU) calculation\n",
    "\n",
    "Even after filtering by thresholding over the class scores, you still end up with a lot of overlapping boxes. A second filter for selecting the right boxes is called non-maximum suppression (NMS). \n",
    "\n",
    "Before we start implement non-max suppression, we need a function to calculate intersection over union.\n",
    "\n",
    "Write a function calculate intersection over union\n",
    "\n",
    "**Exercise**: Implement iou() function\n",
    "For this exercise, a box is defined using its two corners: upper left $(x_1, y_1)$ and lower right $(x_2,y_2)$, instead of using the midpoint, height and width. This makes it a bit easier to calculate the intersection.\n",
    "1. Find the coordinates of the intersection of two boxes.\n",
    "    - The top left corner of the intersection $(xi_{1}, yi_{1})$ is found by comparing the top left corners $(x_1, y_1)$ of the two boxes and finding a vertex that has an x-coordinate that is closer to the right, and y-coordinate that is closer to the bottom.\n",
    "    - The bottom right corner of the intersection $(xi_{2}, yi_{2})$ is found by comparing the bottom right corners $(x_2,y_2)$ of the two boxes and finding a vertex whose x-coordinate is closer to the left, and the y-coordinate that is closer to the top.\n",
    "2. Calculate intersection area\n",
    "    - The two boxes **may have no intersection**.  You can detect this if the intersection coordinates you calculate end up being the top right and/or bottom left corners of an intersection box.  Another way to think of this is if you calculate the height $(y_2 - y_1)$ or width $(x_2 - x_1)$ and find that at least one of these lengths is negative, then there is no intersection (intersection area is zero).\n",
    "    - The two boxes may intersect at the **edges or vertices**, in which case the intersection area is still zero.  This happens when either the height or width (or both) of the calculated intersection is zero.\n",
    "    - For calculate intersection area, you can use `max(height, 0)` and `max(width, 0)`\n",
    "3. Calculate union area\n",
    "4. Calculate iou using intersection area / union area\n",
    "\n",
    "Non-max suppression uses the very important function called **\"Intersection over Union\"**, or IoU.\n",
    "<img src=\"nb_images/iou.png\" style=\"width:500px;height:400;\">\n",
    "<caption><center> <u> <b>Figure 8</b> </u>: Definition of \"Intersection over Union\". <br> </center></caption>"
   ]
  },
  {
   "cell_type": "code",
   "execution_count": 4,
   "metadata": {
    "pycharm": {
     "name": "#%%\n"
    }
   },
   "outputs": [],
   "source": [
    "def iou(box1, box2):\n",
    "    \"\"\"\n",
    "    Implement the intersection over union (IoU) between box1 and box2\n",
    "    Arguments:\n",
    "    box1 -- first box, list object with coordinates (box1_x1, box1_y1, box1_x2, box_1_y2)\n",
    "    box2 -- second box, list object with coordinates (box2_x1, box2_y1, box2_x2, box2_y2)\n",
    "    \"\"\"\n",
    "\n",
    "    (box1_x1, box1_y1, box1_x2, box1_y2) = box1\n",
    "    (box2_x1, box2_y1, box2_x2, box2_y2) = box2\n",
    "\n",
    "    # YOUR CODE STARTS HERE\n",
    "\n",
    "    # Calculate the (yi1, xi1, yi2, xi2) coordinates of the intersection of box1 and box2. Calculate its Area.\n",
    "    ##(≈ 7 lines)\n",
    "    xi1 = max(box1_x1, box2_x1)\n",
    "    yi1 = max(box1_y1, box2_y1)\n",
    "    xi2 = min(box1_x2, box2_x2)\n",
    "    yi2 = min(box1_y2, box2_y2)\n",
    "    inter_width = max(0, yi2 - yi1)\n",
    "    inter_height = max(0, xi2 - xi1)\n",
    "    inter_area = inter_width * inter_height\n",
    "\n",
    "    # Calculate the Union area by using Formula: Union(A,B) = A + B - Inter(A,B)\n",
    "    ## (≈ 3 lines)\n",
    "    box1_area = (box1_x2 - box1_x1) * ((box1_y2 - box1_y1))\n",
    "    box2_area = (box2_x2 - box2_x1) * ((box2_y2 - box2_y1))\n",
    "    union_area = box1_area + box2_area - inter_area\n",
    "\n",
    "    # compute the IoU\n",
    "    ## (≈ 1 line)\n",
    "    iou = inter_area / union_area\n",
    "\n",
    "    # YOUR CODE ENDS HERE\n",
    "\n",
    "    return iou"
   ]
  },
  {
   "cell_type": "code",
   "execution_count": 5,
   "metadata": {
    "pycharm": {
     "name": "#%%\n"
    }
   },
   "outputs": [
    {
     "name": "stdout",
     "output_type": "stream",
     "text": [
      "iou for intersecting boxes = 0.14285714285714285\n",
      "iou for non-intersecting boxes = 0.0\n",
      "iou for boxes that only touch at vertices = 0.0\n",
      "iou for boxes that only touch at edges = 0.0\n",
      "\u001B[92m All tests passed!\n"
     ]
    }
   ],
   "source": [
    "## Test case 1: boxes intersect\n",
    "box1 = (2, 1, 4, 3)\n",
    "box2 = (1, 2, 3, 4)\n",
    "\n",
    "print(\"iou for intersecting boxes = \" + str(iou(box1, box2)))\n",
    "assert iou(box1, box2) < 1, \"The intersection area must be always smaller or equal than the union area.\"\n",
    "assert np.isclose(iou(box1, box2), 0.14285714), \"Wrong value. Check your implementation. Problem with intersecting boxes\"\n",
    "\n",
    "## Test case 2: boxes do not intersect\n",
    "box1 = (1, 2, 3, 4)\n",
    "box2 = (5, 6, 7, 8)\n",
    "print(\"iou for non-intersecting boxes = \" + str(iou(box1, box2)))\n",
    "assert iou(box1, box2) == 0, \"Intersection must be 0\"\n",
    "\n",
    "## Test case 3: boxes intersect at vertices only\n",
    "box1 = (1, 1, 2, 2)\n",
    "box2 = (2, 2, 3, 3)\n",
    "print(\"iou for boxes that only touch at vertices = \" + str(iou(box1, box2)))\n",
    "assert iou(box1, box2) == 0, \"Intersection at vertices must be 0\"\n",
    "\n",
    "## Test case 4: boxes intersect at edge only\n",
    "box1 = (1, 1, 3, 3)\n",
    "box2 = (2, 3, 3, 4)\n",
    "print(\"iou for boxes that only touch at edges = \" + str(iou(box1, box2)))\n",
    "assert iou(box1, box2) == 0, \"Intersection at edges must be 0\"\n",
    "\n",
    "print(\"\\033[92m All tests passed!\")\n",
    "\n"
   ]
  },
  {
   "cell_type": "markdown",
   "metadata": {
    "pycharm": {
     "name": "#%% md\n"
    }
   },
   "source": [
    "**Expected Output**:\n",
    "\n",
    "```\n",
    "iou for intersecting boxes = 0.14285714285714285\n",
    "iou for non-intersecting boxes = 0.0\n",
    "iou for boxes that only touch at vertices = 0.0\n",
    "iou for boxes that only touch at edges = 0.0\n",
    "```"
   ]
  },
  {
   "cell_type": "markdown",
   "metadata": {
    "pycharm": {
     "name": "#%% md\n"
    }
   },
   "source": [
    "## 4 - Non-max Suppression\n",
    "\n",
    "We are now ready to implement non-max suppression.\n",
    "\n",
    "**Exercise**: Implement yolo_non_max_suppression() function\n",
    "1. Compute the overlap between bounding boxes, and remove boxes that overlap significantly (iou >= `iou_threshold`).\n",
    "    - TensorFlow has built-in function that are used to implement non-max suppression (so you don't actually need to use your `iou()` implementation): [tf.image.non_max_suppression()](https://www.tensorflow.org/api_docs/python/tf/image/non_max_suppression)\n",
    "    - Notice that this function returns you the indices of selected boxes\n",
    "2. Select bounding box based on indices you get from [tf.image.non_max_suppression()](https://www.tensorflow.org/api_docs/python/tf/image/non_max_suppression)\n",
    "    - [tf.gather()](https://www.tensorflow.org/api_docs/python/tf/gather) could help you select elements from array."
   ]
  },
  {
   "cell_type": "code",
   "execution_count": 19,
   "metadata": {
    "pycharm": {
     "name": "#%%\n"
    }
   },
   "outputs": [],
   "source": [
    "def yolo_non_max_suppression(scores, boxes, classes, max_num_boxes=10, iou_threshold=0.5):\n",
    "    \"\"\"\n",
    "    Applies Non-max suppression (NMS) to set of boxes\n",
    "    \n",
    "    Arguments:\n",
    "    scores -- tensor of shape (None,), output of yolo_filter_boxes()\n",
    "    boxes -- tensor of shape (None, 4), output of yolo_filter_boxes() that have been scaled to the image size (see later)\n",
    "    classes -- tensor of shape (None,), output of yolo_filter_boxes()\n",
    "    max_num_boxes -- integer, maximum number of predicted boxes you'd like\n",
    "    iou_threshold -- real value, \"intersection over union\" threshold used for NMS filtering\n",
    "    \n",
    "    Returns:\n",
    "    scores -- tensor of shape (, None), predicted score for each box\n",
    "    boxes -- tensor of shape (4, None), predicted box coordinates\n",
    "    classes -- tensor of shape (, None), predicted class for each box\n",
    "    \n",
    "    Note: The \"None\" dimension of the output tensors has obviously to be less than max_boxes. Note also that this\n",
    "    function will transpose the shapes of scores, boxes, classes. This is made for convenience.\n",
    "    \"\"\"\n",
    "    # YOUR CODE STARTS HERE\n",
    "    \n",
    "    max_num_boxes_tensor = tf.Variable(max_num_boxes, dtype='int32')  # tensor to be used in tf.image.non_max_suppression()\n",
    "\n",
    "    # Use tf.image.non_max_suppression() to get the list of indices corresponding to boxes you keep\n",
    "    ##(≈ 1 line)\n",
    "    nms_indices = tf.image.non_max_suppression(boxes, scores, max_num_boxes_tensor, iou_threshold)\n",
    "\n",
    "    # Use tf.gather() to select only nms_indices from scores, boxes and classes\n",
    "    ##(≈ 3 lines)\n",
    "    scores = tf.gather(scores, nms_indices)\n",
    "    boxes = tf.gather(boxes, nms_indices)\n",
    "    classes = tf.gather(classes, nms_indices)\n",
    "\n",
    "    # YOUR CODE ENDS HERE\n",
    "\n",
    "    return scores, boxes, classes"
   ]
  },
  {
   "cell_type": "code",
   "execution_count": 20,
   "metadata": {
    "pycharm": {
     "name": "#%%\n"
    }
   },
   "outputs": [
    {
     "name": "stdout",
     "output_type": "stream",
     "text": [
      "scores[2] = 8.147684\n",
      "boxes[2] = [ 6.0797963   3.7433083   1.3914018  -0.34089637]\n",
      "classes[2] = 1.7079165\n",
      "scores.shape = (10,)\n",
      "boxes.shape = (10, 4)\n",
      "classes.shape = (10,)\n",
      "\u001B[92m All tests passed!\n"
     ]
    }
   ],
   "source": [
    "tf.random.set_seed(10)\n",
    "scores = tf.random.normal([54, ], mean=1, stddev=4, seed=1)\n",
    "boxes = tf.random.normal([54, 4], mean=1, stddev=4, seed=1)\n",
    "classes = tf.random.normal([54, ], mean=1, stddev=4, seed=1)\n",
    "scores, boxes, classes = yolo_non_max_suppression(scores, boxes, classes)\n",
    "\n",
    "assert type(scores) == EagerTensor, \"Use tensoflow functions\"\n",
    "print(\"scores[2] = \" + str(scores[2].numpy()))\n",
    "print(\"boxes[2] = \" + str(boxes[2].numpy()))\n",
    "print(\"classes[2] = \" + str(classes[2].numpy()))\n",
    "print(\"scores.shape = \" + str(scores.numpy().shape))\n",
    "print(\"boxes.shape = \" + str(boxes.numpy().shape))\n",
    "print(\"classes.shape = \" + str(classes.numpy().shape))\n",
    "\n",
    "assert type(scores) == EagerTensor, \"Use tensoflow functions\"\n",
    "assert type(boxes) == EagerTensor, \"Use tensoflow functions\"\n",
    "assert type(classes) == EagerTensor, \"Use tensoflow functions\"\n",
    "\n",
    "assert scores.shape == (10,), \"Wrong shape\"\n",
    "assert boxes.shape == (10, 4), \"Wrong shape\"\n",
    "assert classes.shape == (10,), \"Wrong shape\"\n",
    "\n",
    "assert np.isclose(scores[2].numpy(), 8.147684), \"Wrong value on scores\"\n",
    "assert np.allclose(boxes[2].numpy(), [6.0797963, 3.743308, 1.3914018, -0.34089637]), \"Wrong value on boxes\"\n",
    "assert np.isclose(classes[2].numpy(), 1.7079165), \"Wrong value on classes\"\n",
    "\n",
    "print(\"\\033[92m All tests passed!\")\n"
   ]
  },
  {
   "cell_type": "markdown",
   "metadata": {
    "pycharm": {
     "name": "#%% md\n"
    }
   },
   "source": [
    "**Expected Output**:\n",
    "\n",
    "```\n",
    "scores[2] = 8.147684\n",
    "boxes[2] = [ 6.0797963   3.7433083   1.3914018  -0.34089637]\n",
    "classes[2] = 1.7079165\n",
    "scores.shape = (10,)\n",
    "boxes.shape = (10, 4)\n",
    "classes.shape = (10,)\n",
    "```"
   ]
  },
  {
   "cell_type": "markdown",
   "metadata": {
    "pycharm": {
     "name": "#%% md\n"
    }
   },
   "source": [
    "## 5 - Warpping Up \n",
    "\n",
    "Its now the time to warpping up all the functions we written already in to one single function for processing the output from neural network!\n",
    "\n",
    "**Exercise**: Implement yolo_eval() function\n",
    "1. Convert the bounding boxes output from neural network (box_xy and box_wh) to corner coordinates.\n",
    "    - Here we provieded you the function yolo_boxes_to_corners() for doing that. This function simplely converts the yolo box coordinates (x,y,w,h) to box corners' coordinates (x1, y1, x2, y2), to fit the input of `yolo_filter_boxes`\n",
    "2. Use yolo_filter_boxes() function you've implemented to perform Score-filtering.\n",
    "3. Scale bounding boxes back to original image shape.\n",
    "    - The reason why we needs to scale the bounding boxes is because YOLO was trained to run on 608x608 images. If you are testing this data on a different size image -- for example, the car detection dataset had 720x1280 images -- this step rescales the boxes so that they can be plotted on top of the original 720x1280 image.  \n",
    "4. Use yolo_non_max_suppression() function you've implemented to perform Non-max suppression."
   ]
  },
  {
   "cell_type": "code",
   "execution_count": 8,
   "metadata": {
    "pycharm": {
     "name": "#%%\n"
    }
   },
   "outputs": [],
   "source": [
    "def yolo_eval(yolo_outputs, image_shape=(720, 1280), max_boxes=10, score_threshold=.6, iou_threshold=.5):\n",
    "    \"\"\"\n",
    "    Converts the output of YOLO encoding (a lot of boxes) to your predicted boxes along with their scores, box coordinates and classes.\n",
    "    \n",
    "    Arguments:\n",
    "    yolo_outputs -- output of the encoding model (for image_shape of (608, 608, 3)), contains 4 tensors:\n",
    "                    box_xy: tensor of shape (None, 19, 19, 5, 2)\n",
    "                    box_wh: tensor of shape (None, 19, 19, 5, 2)\n",
    "                    box_confidence: tensor of shape (None, 19, 19, 5, 1)\n",
    "                    box_class_probs: tensor of shape (None, 19, 19, 5, 80)\n",
    "    image_shape -- tensor of shape (2,) containing the input shape, in this notebook we use (608., 608.) (has to be float32 dtype)\n",
    "    max_boxes -- integer, maximum number of predicted boxes you'd like\n",
    "    score_threshold -- real value, if [ highest class probability score < threshold], then get rid of the corresponding box\n",
    "    iou_threshold -- real value, \"intersection over union\" threshold used for NMS filtering\n",
    "    \n",
    "    Returns:\n",
    "    scores -- tensor of shape (None, ), predicted score for each box\n",
    "    boxes -- tensor of shape (None, 4), predicted box coordinates\n",
    "    classes -- tensor of shape (None,), predicted class for each box\n",
    "    \"\"\"\n",
    "    # YOUR CODE STARTS HERE\n",
    "\n",
    "    # Retrieve outputs of the YOLO mode\n",
    "    ##(≈ 1 line)\n",
    "    box_xy, box_wh, box_confidence, box_class_probs = yolo_outputs\n",
    "\n",
    "    # Convert boxes to be ready for filtering functions (convert boxes box_xy and box_wh to corner coordinates)\n",
    "    boxes = yolo_boxes_to_corners(box_xy, box_wh)\n",
    "\n",
    "    # Use one of the functions you've implemented to perform Score-filtering with a threshold of score_threshold\n",
    "    ##(≈ 1 line)\n",
    "    scores, boxes, classes = yolo_filter_boxes(boxes, box_confidence, box_class_probs, score_threshold)\n",
    "\n",
    "    # Scale boxes back to original image shape (720, 1280 or whatever)\n",
    "    boxes = scale_boxes(boxes, image_shape)  # Network was trained to run on 608x608 images\n",
    "\n",
    "    # Use one of the functions you've implemented to perform Non-max suppression with \n",
    "    # maximum number of boxes set to max_boxes and a threshold of iou_threshold\n",
    "    ##(≈1 line)\n",
    "    scores, boxes, classes = yolo_non_max_suppression(scores, boxes, classes, max_boxes, iou_threshold)\n",
    "\n",
    "    # YOUR CODE ENDS HERE\n",
    "\n",
    "    return scores, boxes, classes"
   ]
  },
  {
   "cell_type": "code",
   "execution_count": 9,
   "metadata": {
    "pycharm": {
     "name": "#%%\n"
    }
   },
   "outputs": [
    {
     "name": "stdout",
     "output_type": "stream",
     "text": [
      "scores[2] = 171.60194\n",
      "boxes[2] = [-1240.3483 -3212.5881  -645.78    2024.3052]\n",
      "classes[2] = 16\n",
      "scores.shape = (10,)\n",
      "boxes.shape = (10, 4)\n",
      "classes.shape = (10,)\n",
      "\u001B[92m All tests passed!\n"
     ]
    }
   ],
   "source": [
    "tf.random.set_seed(10)\n",
    "yolo_outputs = (tf.random.normal([19, 19, 5, 2], mean=1, stddev=4, seed=1),\n",
    "                tf.random.normal([19, 19, 5, 2], mean=1, stddev=4, seed=1),\n",
    "                tf.random.normal([19, 19, 5, 1], mean=1, stddev=4, seed=1),\n",
    "                tf.random.normal([19, 19, 5, 80], mean=1, stddev=4, seed=1))\n",
    "scores, boxes, classes = yolo_eval(yolo_outputs)\n",
    "print(\"scores[2] = \" + str(scores[2].numpy()))\n",
    "print(\"boxes[2] = \" + str(boxes[2].numpy()))\n",
    "print(\"classes[2] = \" + str(classes[2].numpy()))\n",
    "print(\"scores.shape = \" + str(scores.numpy().shape))\n",
    "print(\"boxes.shape = \" + str(boxes.numpy().shape))\n",
    "print(\"classes.shape = \" + str(classes.numpy().shape))\n",
    "\n",
    "assert type(scores) == EagerTensor, \"Use tensoflow functions\"\n",
    "assert type(boxes) == EagerTensor, \"Use tensoflow functions\"\n",
    "assert type(classes) == EagerTensor, \"Use tensoflow functions\"\n",
    "\n",
    "assert scores.shape == (10,), \"Wrong shape\"\n",
    "assert boxes.shape == (10, 4), \"Wrong shape\"\n",
    "assert classes.shape == (10,), \"Wrong shape\"\n",
    "\n",
    "assert np.isclose(scores[2].numpy(), 171.60194), \"Wrong value on scores\"\n",
    "assert np.allclose(boxes[2].numpy(), [-1240.3483, -3212.5881, -645.78, 2024.3052]), \"Wrong value on boxes\"\n",
    "assert np.isclose(classes[2].numpy(), 16), \"Wrong value on classes\"\n",
    "\n",
    "print(\"\\033[92m All tests passed!\")"
   ]
  },
  {
   "cell_type": "markdown",
   "metadata": {
    "pycharm": {
     "name": "#%% md\n"
    }
   },
   "source": [
    "**Expected Output**:\n",
    "\n",
    "```\n",
    "scores[2] = 171.60194\n",
    "boxes[2] = [-1240.3483 -3212.5881  -645.78    2024.3052]\n",
    "classes[2] = 16\n",
    "scores.shape = (10,)\n",
    "boxes.shape = (10, 4)\n",
    "classes.shape = (10,)\n",
    "```"
   ]
  },
  {
   "cell_type": "markdown",
   "metadata": {
    "pycharm": {
     "name": "#%% md\n"
    }
   },
   "source": [
    "## 6 - Run Pre-trained YOLO Model on CARLA dataset \n",
    "\n",
    "Now we are ready to process the YOLO model output. Time to test it with our CARLA dataset.\n",
    "\n",
    "**Exercise**: Implement predict() function\n",
    "1. Load the pretrained model using [tf.keras.models.load_model()](https://www.tensorflow.org/api_docs/python/tf/keras/models/load_model). Set `compile` to False.\n",
    "2. Load and preprocess our images in the path \"images/\", remember resize our image to size (608,608).\n",
    "3. Feed our images into loaded YOLO model\n",
    "4. Postprocess YOLO model output using yolo_eval()"
   ]
  },
  {
   "cell_type": "code",
   "execution_count": 10,
   "metadata": {
    "pycharm": {
     "name": "#%%\n"
    }
   },
   "outputs": [],
   "source": [
    "# Load necessary information from txt. Since YOLO model are able to detect 80 classes and using 5 anchor boxes.\n",
    "# The information on the 80 classes and 5 boxes is gathered in two files: \"coco_classes.txt\" and \"yolo_anchors.txt\". \n",
    "# You'll read class names and anchors from text files.\n",
    "class_names = read_classes(\"model_data/coco_classes.txt\")\n",
    "anchors = read_anchors(\"model_data/yolo_anchors.txt\")\n",
    "model_image_size = (608, 608)  # Same as yolo_model input layer size"
   ]
  },
  {
   "cell_type": "code",
   "execution_count": 11,
   "metadata": {
    "pycharm": {
     "name": "#%%\n"
    }
   },
   "outputs": [],
   "source": [
    "# Load the pretrained model. The path of pretrained H5HD file is: \"./model_data/yolo.h5\"\n",
    "# Remember to set compile=False\n",
    "##(≈1 line)\n",
    "yolo_model = load_model(\"model_data/yolo.h5\", compile=False)"
   ]
  },
  {
   "cell_type": "code",
   "execution_count": 12,
   "metadata": {
    "pycharm": {
     "name": "#%%\n"
    }
   },
   "outputs": [
    {
     "name": "stdout",
     "output_type": "stream",
     "text": [
      "Model: \"model\"\n",
      "__________________________________________________________________________________________________\n",
      " Layer (type)                   Output Shape         Param #     Connected to                     \n",
      "==================================================================================================\n",
      " input_1 (InputLayer)           [(None, 608, 608, 3  0           []                               \n",
      "                                )]                                                                \n",
      "                                                                                                  \n",
      " conv2d (Conv2D)                (None, 608, 608, 32  864         ['input_1[0][0]']                \n",
      "                                )                                                                 \n",
      "                                                                                                  \n",
      " batch_normalization (BatchNorm  (None, 608, 608, 32  128        ['conv2d[0][0]']                 \n",
      " alization)                     )                                                                 \n",
      "                                                                                                  \n",
      " leaky_re_lu (LeakyReLU)        (None, 608, 608, 32  0           ['batch_normalization[0][0]']    \n",
      "                                )                                                                 \n",
      "                                                                                                  \n",
      " max_pooling2d (MaxPooling2D)   (None, 304, 304, 32  0           ['leaky_re_lu[0][0]']            \n",
      "                                )                                                                 \n",
      "                                                                                                  \n",
      " conv2d_1 (Conv2D)              (None, 304, 304, 64  18432       ['max_pooling2d[0][0]']          \n",
      "                                )                                                                 \n",
      "                                                                                                  \n",
      " batch_normalization_1 (BatchNo  (None, 304, 304, 64  256        ['conv2d_1[0][0]']               \n",
      " rmalization)                   )                                                                 \n",
      "                                                                                                  \n",
      " leaky_re_lu_1 (LeakyReLU)      (None, 304, 304, 64  0           ['batch_normalization_1[0][0]']  \n",
      "                                )                                                                 \n",
      "                                                                                                  \n",
      " max_pooling2d_1 (MaxPooling2D)  (None, 152, 152, 64  0          ['leaky_re_lu_1[0][0]']          \n",
      "                                )                                                                 \n",
      "                                                                                                  \n",
      " conv2d_2 (Conv2D)              (None, 152, 152, 12  73728       ['max_pooling2d_1[0][0]']        \n",
      "                                8)                                                                \n",
      "                                                                                                  \n",
      " batch_normalization_2 (BatchNo  (None, 152, 152, 12  512        ['conv2d_2[0][0]']               \n",
      " rmalization)                   8)                                                                \n",
      "                                                                                                  \n",
      " leaky_re_lu_2 (LeakyReLU)      (None, 152, 152, 12  0           ['batch_normalization_2[0][0]']  \n",
      "                                8)                                                                \n",
      "                                                                                                  \n",
      " conv2d_3 (Conv2D)              (None, 152, 152, 64  8192        ['leaky_re_lu_2[0][0]']          \n",
      "                                )                                                                 \n",
      "                                                                                                  \n",
      " batch_normalization_3 (BatchNo  (None, 152, 152, 64  256        ['conv2d_3[0][0]']               \n",
      " rmalization)                   )                                                                 \n",
      "                                                                                                  \n",
      " leaky_re_lu_3 (LeakyReLU)      (None, 152, 152, 64  0           ['batch_normalization_3[0][0]']  \n",
      "                                )                                                                 \n",
      "                                                                                                  \n",
      " conv2d_4 (Conv2D)              (None, 152, 152, 12  73728       ['leaky_re_lu_3[0][0]']          \n",
      "                                8)                                                                \n",
      "                                                                                                  \n",
      " batch_normalization_4 (BatchNo  (None, 152, 152, 12  512        ['conv2d_4[0][0]']               \n",
      " rmalization)                   8)                                                                \n",
      "                                                                                                  \n",
      " leaky_re_lu_4 (LeakyReLU)      (None, 152, 152, 12  0           ['batch_normalization_4[0][0]']  \n",
      "                                8)                                                                \n",
      "                                                                                                  \n",
      " max_pooling2d_2 (MaxPooling2D)  (None, 76, 76, 128)  0          ['leaky_re_lu_4[0][0]']          \n",
      "                                                                                                  \n",
      " conv2d_5 (Conv2D)              (None, 76, 76, 256)  294912      ['max_pooling2d_2[0][0]']        \n",
      "                                                                                                  \n",
      " batch_normalization_5 (BatchNo  (None, 76, 76, 256)  1024       ['conv2d_5[0][0]']               \n",
      " rmalization)                                                                                     \n",
      "                                                                                                  \n",
      " leaky_re_lu_5 (LeakyReLU)      (None, 76, 76, 256)  0           ['batch_normalization_5[0][0]']  \n",
      "                                                                                                  \n",
      " conv2d_6 (Conv2D)              (None, 76, 76, 128)  32768       ['leaky_re_lu_5[0][0]']          \n",
      "                                                                                                  \n",
      " batch_normalization_6 (BatchNo  (None, 76, 76, 128)  512        ['conv2d_6[0][0]']               \n",
      " rmalization)                                                                                     \n",
      "                                                                                                  \n",
      " leaky_re_lu_6 (LeakyReLU)      (None, 76, 76, 128)  0           ['batch_normalization_6[0][0]']  \n",
      "                                                                                                  \n",
      " conv2d_7 (Conv2D)              (None, 76, 76, 256)  294912      ['leaky_re_lu_6[0][0]']          \n",
      "                                                                                                  \n",
      " batch_normalization_7 (BatchNo  (None, 76, 76, 256)  1024       ['conv2d_7[0][0]']               \n",
      " rmalization)                                                                                     \n",
      "                                                                                                  \n",
      " leaky_re_lu_7 (LeakyReLU)      (None, 76, 76, 256)  0           ['batch_normalization_7[0][0]']  \n",
      "                                                                                                  \n",
      " max_pooling2d_3 (MaxPooling2D)  (None, 38, 38, 256)  0          ['leaky_re_lu_7[0][0]']          \n",
      "                                                                                                  \n",
      " conv2d_8 (Conv2D)              (None, 38, 38, 512)  1179648     ['max_pooling2d_3[0][0]']        \n",
      "                                                                                                  \n",
      " batch_normalization_8 (BatchNo  (None, 38, 38, 512)  2048       ['conv2d_8[0][0]']               \n",
      " rmalization)                                                                                     \n",
      "                                                                                                  \n",
      " leaky_re_lu_8 (LeakyReLU)      (None, 38, 38, 512)  0           ['batch_normalization_8[0][0]']  \n",
      "                                                                                                  \n",
      " conv2d_9 (Conv2D)              (None, 38, 38, 256)  131072      ['leaky_re_lu_8[0][0]']          \n",
      "                                                                                                  \n",
      " batch_normalization_9 (BatchNo  (None, 38, 38, 256)  1024       ['conv2d_9[0][0]']               \n",
      " rmalization)                                                                                     \n",
      "                                                                                                  \n",
      " leaky_re_lu_9 (LeakyReLU)      (None, 38, 38, 256)  0           ['batch_normalization_9[0][0]']  \n",
      "                                                                                                  \n",
      " conv2d_10 (Conv2D)             (None, 38, 38, 512)  1179648     ['leaky_re_lu_9[0][0]']          \n",
      "                                                                                                  \n",
      " batch_normalization_10 (BatchN  (None, 38, 38, 512)  2048       ['conv2d_10[0][0]']              \n",
      " ormalization)                                                                                    \n",
      "                                                                                                  \n",
      " leaky_re_lu_10 (LeakyReLU)     (None, 38, 38, 512)  0           ['batch_normalization_10[0][0]'] \n",
      "                                                                                                  \n",
      " conv2d_11 (Conv2D)             (None, 38, 38, 256)  131072      ['leaky_re_lu_10[0][0]']         \n",
      "                                                                                                  \n",
      " batch_normalization_11 (BatchN  (None, 38, 38, 256)  1024       ['conv2d_11[0][0]']              \n",
      " ormalization)                                                                                    \n",
      "                                                                                                  \n",
      " leaky_re_lu_11 (LeakyReLU)     (None, 38, 38, 256)  0           ['batch_normalization_11[0][0]'] \n",
      "                                                                                                  \n",
      " conv2d_12 (Conv2D)             (None, 38, 38, 512)  1179648     ['leaky_re_lu_11[0][0]']         \n",
      "                                                                                                  \n",
      " batch_normalization_12 (BatchN  (None, 38, 38, 512)  2048       ['conv2d_12[0][0]']              \n",
      " ormalization)                                                                                    \n",
      "                                                                                                  \n",
      " leaky_re_lu_12 (LeakyReLU)     (None, 38, 38, 512)  0           ['batch_normalization_12[0][0]'] \n",
      "                                                                                                  \n",
      " max_pooling2d_4 (MaxPooling2D)  (None, 19, 19, 512)  0          ['leaky_re_lu_12[0][0]']         \n",
      "                                                                                                  \n",
      " conv2d_13 (Conv2D)             (None, 19, 19, 1024  4718592     ['max_pooling2d_4[0][0]']        \n",
      "                                )                                                                 \n",
      "                                                                                                  \n",
      " batch_normalization_13 (BatchN  (None, 19, 19, 1024  4096       ['conv2d_13[0][0]']              \n",
      " ormalization)                  )                                                                 \n",
      "                                                                                                  \n",
      " leaky_re_lu_13 (LeakyReLU)     (None, 19, 19, 1024  0           ['batch_normalization_13[0][0]'] \n",
      "                                )                                                                 \n",
      "                                                                                                  \n",
      " conv2d_14 (Conv2D)             (None, 19, 19, 512)  524288      ['leaky_re_lu_13[0][0]']         \n",
      "                                                                                                  \n",
      " batch_normalization_14 (BatchN  (None, 19, 19, 512)  2048       ['conv2d_14[0][0]']              \n",
      " ormalization)                                                                                    \n",
      "                                                                                                  \n",
      " leaky_re_lu_14 (LeakyReLU)     (None, 19, 19, 512)  0           ['batch_normalization_14[0][0]'] \n",
      "                                                                                                  \n",
      " conv2d_15 (Conv2D)             (None, 19, 19, 1024  4718592     ['leaky_re_lu_14[0][0]']         \n",
      "                                )                                                                 \n",
      "                                                                                                  \n",
      " batch_normalization_15 (BatchN  (None, 19, 19, 1024  4096       ['conv2d_15[0][0]']              \n",
      " ormalization)                  )                                                                 \n",
      "                                                                                                  \n",
      " leaky_re_lu_15 (LeakyReLU)     (None, 19, 19, 1024  0           ['batch_normalization_15[0][0]'] \n",
      "                                )                                                                 \n",
      "                                                                                                  \n",
      " conv2d_16 (Conv2D)             (None, 19, 19, 512)  524288      ['leaky_re_lu_15[0][0]']         \n",
      "                                                                                                  \n",
      " batch_normalization_16 (BatchN  (None, 19, 19, 512)  2048       ['conv2d_16[0][0]']              \n",
      " ormalization)                                                                                    \n",
      "                                                                                                  \n",
      " leaky_re_lu_16 (LeakyReLU)     (None, 19, 19, 512)  0           ['batch_normalization_16[0][0]'] \n",
      "                                                                                                  \n",
      " conv2d_17 (Conv2D)             (None, 19, 19, 1024  4718592     ['leaky_re_lu_16[0][0]']         \n",
      "                                )                                                                 \n",
      "                                                                                                  \n",
      " batch_normalization_17 (BatchN  (None, 19, 19, 1024  4096       ['conv2d_17[0][0]']              \n",
      " ormalization)                  )                                                                 \n",
      "                                                                                                  \n",
      " leaky_re_lu_17 (LeakyReLU)     (None, 19, 19, 1024  0           ['batch_normalization_17[0][0]'] \n",
      "                                )                                                                 \n",
      "                                                                                                  \n",
      " conv2d_18 (Conv2D)             (None, 19, 19, 1024  9437184     ['leaky_re_lu_17[0][0]']         \n",
      "                                )                                                                 \n",
      "                                                                                                  \n",
      " batch_normalization_18 (BatchN  (None, 19, 19, 1024  4096       ['conv2d_18[0][0]']              \n",
      " ormalization)                  )                                                                 \n",
      "                                                                                                  \n",
      " conv2d_20 (Conv2D)             (None, 38, 38, 64)   32768       ['leaky_re_lu_12[0][0]']         \n",
      "                                                                                                  \n",
      " leaky_re_lu_18 (LeakyReLU)     (None, 19, 19, 1024  0           ['batch_normalization_18[0][0]'] \n",
      "                                )                                                                 \n",
      "                                                                                                  \n",
      " batch_normalization_20 (BatchN  (None, 38, 38, 64)  256         ['conv2d_20[0][0]']              \n",
      " ormalization)                                                                                    \n",
      "                                                                                                  \n",
      " conv2d_19 (Conv2D)             (None, 19, 19, 1024  9437184     ['leaky_re_lu_18[0][0]']         \n",
      "                                )                                                                 \n",
      "                                                                                                  \n",
      " leaky_re_lu_20 (LeakyReLU)     (None, 38, 38, 64)   0           ['batch_normalization_20[0][0]'] \n",
      "                                                                                                  \n",
      " batch_normalization_19 (BatchN  (None, 19, 19, 1024  4096       ['conv2d_19[0][0]']              \n",
      " ormalization)                  )                                                                 \n",
      "                                                                                                  \n",
      " space_to_depth_x2 (Lambda)     (None, 19, 19, 256)  0           ['leaky_re_lu_20[0][0]']         \n",
      "                                                                                                  \n",
      " leaky_re_lu_19 (LeakyReLU)     (None, 19, 19, 1024  0           ['batch_normalization_19[0][0]'] \n",
      "                                )                                                                 \n",
      "                                                                                                  \n",
      " concatenate (Concatenate)      (None, 19, 19, 1280  0           ['space_to_depth_x2[0][0]',      \n",
      "                                )                                 'leaky_re_lu_19[0][0]']         \n",
      "                                                                                                  \n",
      " conv2d_21 (Conv2D)             (None, 19, 19, 1024  11796480    ['concatenate[0][0]']            \n",
      "                                )                                                                 \n",
      "                                                                                                  \n",
      " batch_normalization_21 (BatchN  (None, 19, 19, 1024  4096       ['conv2d_21[0][0]']              \n",
      " ormalization)                  )                                                                 \n",
      "                                                                                                  \n",
      " leaky_re_lu_21 (LeakyReLU)     (None, 19, 19, 1024  0           ['batch_normalization_21[0][0]'] \n",
      "                                )                                                                 \n",
      "                                                                                                  \n",
      " conv2d_22 (Conv2D)             (None, 19, 19, 425)  435625      ['leaky_re_lu_21[0][0]']         \n",
      "                                                                                                  \n",
      "==================================================================================================\n",
      "Total params: 50,983,561\n",
      "Trainable params: 50,962,889\n",
      "Non-trainable params: 20,672\n",
      "__________________________________________________________________________________________________\n"
     ]
    }
   ],
   "source": [
    "# Here's a summary of the layers your model contains:\n",
    "yolo_model.summary()"
   ]
  },
  {
   "cell_type": "code",
   "execution_count": 13,
   "metadata": {
    "pycharm": {
     "name": "#%%\n"
    }
   },
   "outputs": [],
   "source": [
    "def predict(image_file):\n",
    "    \"\"\"\n",
    "    Runs the graph to predict boxes for \"image_file\". Prints and plots the predictions.\n",
    "    \n",
    "    Arguments:\n",
    "    image_file -- name of an image stored in the \"images\" folder.\n",
    "    \n",
    "    Returns:\n",
    "    out_scores -- tensor of shape (None, ), scores of the predicted boxes\n",
    "    out_boxes -- tensor of shape (None, 4), coordinates of the predicted boxes\n",
    "    out_classes -- tensor of shape (None, ), class index of the predicted boxes\n",
    "    \n",
    "    Note: \"None\" actually represents the number of predicted boxes, it varies between 0 and max_boxes. \n",
    "    \"\"\"\n",
    "    # YOUR CODE STARTS HERE\n",
    "\n",
    "    # Preprocess images\n",
    "    image, image_data = preprocess_image(\"images/\" + image_file, model_image_size=model_image_size)\n",
    "    \n",
    "    # Feed the image_data into yolo_model. Simply by calling the model as function\n",
    "    ##(≈1 line)\n",
    "    yolo_model_outputs = yolo_model(image_data)  # It's output is of shape (m, 19, 19, 5, 85)\n",
    "    \n",
    "    yolo_outputs = yolo_head(yolo_model_outputs, anchors, len(class_names))\n",
    "    \n",
    "    # Feed yolo_outpus into yolo_eval function. \n",
    "    out_scores, out_boxes, out_classes = yolo_eval(yolo_outputs, [image.size[1], image.size[0]], 10, 0.3, 0.5)\n",
    "    \n",
    "    # YOUR CODE ENDS HERE\n",
    "    \n",
    "    # Print predictions info\n",
    "    print('Found {} boxes for {}'.format(len(out_boxes), \"images/\" + image_file))\n",
    "    # Generate colors for drawing bounding boxes.\n",
    "    colors = get_colors_for_classes(len(class_names))\n",
    "    # Draw bounding boxes on the image file\n",
    "    #draw_boxes2(image, out_scores, out_boxes, out_classes, class_names, colors, image_shape)\n",
    "    draw_boxes(image, out_boxes, out_classes, class_names, out_scores)\n",
    "    # Save the predicted bounding box on the image\n",
    "    image.save(os.path.join(\"out\", str(image_file).split('.')[0] + \"_annotated.\" + str(image_file).split('.')[1]), quality=100)\n",
    "    # Display the results in the notebook\n",
    "    output_image = Image.open(os.path.join(\"out\", str(image_file).split('.')[0] + \"_annotated.\" + str(image_file).split('.')[1]))\n",
    "    imshow(output_image)\n",
    "\n",
    "    return out_scores, out_boxes, out_classes"
   ]
  },
  {
   "cell_type": "code",
   "execution_count": 14,
   "metadata": {
    "pycharm": {
     "name": "#%%\n"
    }
   },
   "outputs": [
    {
     "name": "stdout",
     "output_type": "stream",
     "text": [
      "Found 10 boxes for images/test1.jpg\n",
      "car 0.83 (302, 510) (516, 648)\n",
      "car 0.81 (830, 530) (977, 636)\n",
      "car 0.78 (35, 526) (300, 647)\n",
      "car 0.71 (579, 540) (747, 653)\n",
      "traffic light 0.71 (832, 165) (867, 241)\n",
      "car 0.64 (756, 516) (839, 578)\n",
      "traffic light 0.62 (426, 167) (458, 244)\n",
      "traffic light 0.62 (917, 300) (943, 341)\n",
      "traffic light 0.58 (615, 165) (646, 239)\n",
      "car 0.53 (515, 516) (569, 573)\n"
     ]
    },
    {
     "data": {
      "image/png": "[encoded data removed]",
      "text/plain": [
       "<Figure size 432x288 with 1 Axes>"
      ]
     },
     "metadata": {
      "needs_background": "light"
     },
     "output_type": "display_data"
    }
   ],
   "source": [
    "out_scores, out_boxes, out_classes = predict(\"test1.jpg\")"
   ]
  },
  {
   "cell_type": "markdown",
   "metadata": {
    "pycharm": {
     "name": "#%% md\n"
    }
   },
   "source": [
    "**Expected Output**:\n",
    "\n",
    "```\n",
    "Found 10 boxes for images/test1.jpg\n",
    "car 0.83 (302, 510) (516, 648)\n",
    "car 0.81 (830, 530) (977, 636)\n",
    "car 0.78 (35, 526) (300, 647)\n",
    "car 0.71 (579, 540) (747, 653)\n",
    "traffic light 0.71 (832, 165) (867, 241)\n",
    "car 0.64 (756, 516) (839, 578)\n",
    "traffic light 0.62 (426, 167) (458, 244)\n",
    "traffic light 0.62 (917, 300) (943, 341)\n",
    "traffic light 0.58 (615, 165) (646, 239)\n",
    "car 0.53 (515, 516) (569, 573)\n",
    "```"
   ]
  },
  {
   "cell_type": "markdown",
   "metadata": {
    "pycharm": {
     "name": "#%% md\n"
    }
   },
   "source": [
    "## 7 - Average Precision (AP) Calculation\n",
    "\n",
    "Now we able to obtain results from YOLO model. We could now use some metrics to evaluate YOLO model.\n",
    "\n",
    "**Exercise**: Implement mean_average_precision() function"
   ]
  },
  {
   "cell_type": "code",
   "execution_count": 15,
   "metadata": {
    "pycharm": {
     "name": "#%%\n"
    }
   },
   "outputs": [],
   "source": [
    "import sklearn.metrics\n",
    "\n",
    "def precision_recall_curve(y_true, pred_scores, thresholds):\n",
    "    precisions = []\n",
    "    recalls = []\n",
    "\n",
    "    for threshold in thresholds:\n",
    "        y_pred = [\"positive\" if score >= threshold else \"negative\" for score in pred_scores]\n",
    "\n",
    "        precision = sklearn.metrics.precision_score(y_true=y_true, y_pred=y_pred, pos_label=\"positive\")\n",
    "        recall = sklearn.metrics.recall_score(y_true=y_true, y_pred=y_pred, pos_label=\"positive\")\n",
    "\n",
    "        precisions.append(precision)\n",
    "        recalls.append(recall)\n",
    "\n",
    "    return precisions, recalls"
   ]
  },
  {
   "cell_type": "code",
   "execution_count": 16,
   "metadata": {
    "pycharm": {
     "name": "#%%\n"
    }
   },
   "outputs": [
    {
     "name": "stdout",
     "output_type": "stream",
     "text": [
      "0.8898809523809523\n"
     ]
    }
   ],
   "source": [
    "y_true = [\"positive\", \"negative\", \"negative\", \"positive\", \"positive\", \"positive\", \"negative\", \"positive\", \"negative\", \"positive\", \"positive\", \"positive\", \"positive\", \"negative\", \"negative\", \"negative\"]\n",
    "pred_scores = [0.7, 0.3, 0.5, 0.6, 0.55, 0.9, 0.4, 0.2, 0.4, 0.3, 0.7, 0.5, 0.8, 0.2, 0.3, 0.35]\n",
    "thresholds=np.arange(start=0.2, stop=0.7, step=0.05)\n",
    "\n",
    "precisions, recalls = precision_recall_curve(y_true=y_true,\n",
    "                                             pred_scores=pred_scores,\n",
    "                                             thresholds=thresholds)\n",
    "\n",
    "precisions.append(1)\n",
    "recalls.append(0)\n",
    "\n",
    "precisions = np.array(precisions)\n",
    "recalls = np.array(recalls)\n",
    "\n",
    "AP = np.sum((recalls[:-1] - recalls[1:]) * precisions[:-1])\n",
    "print(AP)"
   ]
  },
  {
   "cell_type": "code",
   "execution_count": 17,
   "metadata": {
    "pycharm": {
     "name": "#%%\n"
    }
   },
   "outputs": [
    {
     "data": {
      "image/png": "[encoded data removed]",
      "text/plain": [
       "<Figure size 432x288 with 1 Axes>"
      ]
     },
     "metadata": {
      "needs_background": "light"
     },
     "output_type": "display_data"
    }
   ],
   "source": [
    "plt.plot(recalls, precisions, linewidth=4, color=\"red\")\n",
    "plt.xlabel(\"Recall\", fontsize=12, fontweight='bold')\n",
    "plt.ylabel(\"Precision\", fontsize=12, fontweight='bold')\n",
    "plt.title(\"Precision-Recall Curve\", fontsize=15, fontweight=\"bold\")\n",
    "plt.show()"
   ]
  },
  {
   "cell_type": "code",
   "execution_count": 18,
   "metadata": {
    "pycharm": {
     "name": "#%%\n"
    }
   },
   "outputs": [],
   "source": [
    "def map_iou(boxes_true, boxes_pred, scores, thresholds = [0.4, 0.45, 0.5, 0.55, 0.6, 0.65, 0.7, 0.75]):\n",
    "    \"\"\"\n",
    "    Mean average precision at differnet intersection over union (IoU) threshold\n",
    "\n",
    "    input:\n",
    "        boxes_true: Mx4 numpy array of ground true bounding boxes of one image.\n",
    "                    bbox format: (x1, y1, w, h)\n",
    "        boxes_pred: Nx4 numpy array of predicted bounding boxes of one image.\n",
    "                    bbox format: (x1, y1, w, h)\n",
    "        scores:     length N numpy array of scores associated with predicted bboxes\n",
    "        thresholds: IoU shresholds to evaluate mean average precision on\n",
    "    output:\n",
    "        map: mean average precision of the image\n",
    "    \"\"\"\n",
    "\n",
    "    # According to the introduction, images with no ground truth bboxes will not be\n",
    "    # included in the map score unless there is a false positive detection (?)\n",
    "\n",
    "    # return None if both are empty, don't count the image in final evaluation (?)\n",
    "    if len(boxes_true) == 0 and len(boxes_pred) == 0:\n",
    "        return None\n",
    "\n",
    "    assert boxes_true.shape[1] == 4 or boxes_pred.shape[1] == 4, \"boxes should be 2D arrays with shape[1]=4\"\n",
    "    if len(boxes_pred):\n",
    "        assert len(scores) == len(boxes_pred), \"boxes_pred and scores should be same length\"\n",
    "        # sort boxes_pred by scores in decreasing order\n",
    "        boxes_pred = boxes_pred[np.argsort(scores)[::-1], :]\n",
    "\n",
    "    map_total = 0\n",
    "\n",
    "    # loop over thresholds\n",
    "    for t in thresholds:\n",
    "        matched_bt = set()\n",
    "        tp, fn = 0, 0\n",
    "        for i, bt in enumerate(boxes_true):\n",
    "            matched = False\n",
    "            for j, bp in enumerate(boxes_pred):\n",
    "                miou = iou(bt, bp)\n",
    "                if miou >= t and not matched and j not in matched_bt:\n",
    "                    matched = True\n",
    "                    tp += 1 # bt is matched for the first time, count as TP\n",
    "                    matched_bt.add(j)\n",
    "            if not matched:\n",
    "                fn += 1 # bt has no match, count as FN\n",
    "\n",
    "        fp = len(boxes_pred) - len(matched_bt) # FP is the bp that not matched to any bt\n",
    "        m = tp / (tp + fn + fp)\n",
    "        map_total += m\n",
    "\n",
    "    return map_total / len(thresholds)"
   ]
  },
  {
   "cell_type": "markdown",
   "metadata": {
    "pycharm": {
     "name": "#%% md\n"
    }
   },
   "source": [
    "## References:\n",
    "\n",
    "Andrew Ng, Kian Katanforoosh, Younes Bensouda Mourri - [Coursera - Convolutional Neural Networks](https://www.coursera.org/learn/convolutional-neural-networks#instructors)\n",
    "Steven Waslander, Jonathan Kelly - [Coursera - Visual Perception for Self-Driving Cars](https://www.coursera.org/learn/visual-perception-self-driving-cars?specialization=self-driving-cars)\n",
    "Allan Zelener - [Github - YAD2K: Yet Another Darknet 2 Keras](https://github.com/allanzelener/YAD2K)\n",
    "Joseph Redmon - [YOLO: Real-Time Object Detection](https://pjreddie.com/darknet/yolo/)\n",
    "Jean-Emmanuel Deschaud - [KITTI-CARLA: a KITTI-like dataset generated by CARLA Simulator](https://npm3d.fr/kitti-carla)\n",
    "Abdur Rahman - [Github - Deep Learning Specialization Coursera](https://github.com/abdur75648/Deep-Learning-Specialization-Coursera)"
   ]
  }
 ],
 "metadata": {
  "kernelspec": {
   "display_name": "Python 3 (ipykernel)",
   "language": "python",
   "name": "python3"
  },
  "language_info": {
   "codemirror_mode": {
    "name": "ipython",
    "version": 3
   },
   "file_extension": ".py",
   "mimetype": "text/x-python",
   "name": "python",
   "nbconvert_exporter": "python",
   "pygments_lexer": "ipython3",
   "version": "3.9.12"
  }
 },
 "nbformat": 4,
 "nbformat_minor": 1
}
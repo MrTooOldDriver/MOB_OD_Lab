{
 "cells": [
  {
   "cell_type": "code",
   "execution_count": null,
   "outputs": [],
   "source": [
    "import numpy as np"
   ],
   "metadata": {
    "collapsed": false,
    "pycharm": {
     "name": "#%%\n"
    }
   }
  },
  {
   "cell_type": "code",
   "execution_count": null,
   "outputs": [],
   "source": [
    "def py_cpu_softnms(boxes, scores, max_num_boxes, iou_threshold=0.5, sigma=0.5, thresh=0.001, method=2):\n",
    "    \"\"\"\n",
    "    py_cpu_softnms\n",
    "    :param boxes:   boexs format [y1, x1, y2, x2]\n",
    "    :param scores:     boxes scores\n",
    "    :param max_num_boxes: maximum number of boxes\n",
    "    :param iou_threshold:     iou threshold\n",
    "    :param sigma:  gaussian distribution sigma\n",
    "    :param thresh: final threshold\n",
    "    :param method: method using (switcher between normal NMS and soft NMS)\n",
    "    :return:       index of boxes\n",
    "    \"\"\"\n",
    "\n",
    "    # indexes concatenate boxes with the last column\n",
    "    N = boxes.shape[0]\n",
    "    indexes = np.array([np.arange(N)])\n",
    "    boxes = np.concatenate((boxes, indexes.T), axis=1)\n",
    "\n",
    "    # the order of boxes coordinate is [y1,x1,y2,x2]\n",
    "    y1 = boxes[:, 0]\n",
    "    x1 = boxes[:, 1]\n",
    "    y2 = boxes[:, 2]\n",
    "    x2 = boxes[:, 3]\n",
    "    scores = scores\n",
    "    areas = (x2 - x1 + 1) * (y2 - y1 + 1)\n",
    "\n",
    "    for i in range(N):\n",
    "        # intermediate parameters for later parameters exchange\n",
    "        tBD = boxes[i, :].copy()\n",
    "        tscore = scores[i].copy()\n",
    "        tarea = areas[i].copy()\n",
    "        pos = i + 1\n",
    "\n",
    "        #\n",
    "        if i != N-1:\n",
    "            maxscore = np.max(scores[pos:], axis=0)\n",
    "            maxpos = np.argmax(scores[pos:], axis=0)\n",
    "        else:\n",
    "            maxscore = scores[-1]\n",
    "            maxpos = 0\n",
    "        if tscore < maxscore:\n",
    "            boxes[i, :] = boxes[maxpos + i + 1, :]\n",
    "            boxes[maxpos + i + 1, :] = tBD\n",
    "            tBD = boxes[i, :]\n",
    "\n",
    "            scores[i] = scores[maxpos + i + 1]\n",
    "            scores[maxpos + i + 1] = tscore\n",
    "            tscore = scores[i]\n",
    "\n",
    "            areas[i] = areas[maxpos + i + 1]\n",
    "            areas[maxpos + i + 1] = tarea\n",
    "            tarea = areas[i]\n",
    "\n",
    "        # IoU calculate\n",
    "        xx1 = np.maximum(boxes[i, 1], boxes[pos:, 1])\n",
    "        yy1 = np.maximum(boxes[i, 0], boxes[pos:, 0])\n",
    "        xx2 = np.minimum(boxes[i, 3], boxes[pos:, 3])\n",
    "        yy2 = np.minimum(boxes[i, 2], boxes[pos:, 2])\n",
    "\n",
    "        w = np.maximum(0.0, xx2 - xx1 + 1)\n",
    "        h = np.maximum(0.0, yy2 - yy1 + 1)\n",
    "        inter = w * h\n",
    "        ovr = inter / (areas[i] + areas[pos:] - inter)\n",
    "\n",
    "        # Three methods: 1.linear 2.gaussian 3.original NMS\n",
    "        if method == 1:  # linear\n",
    "            weight = np.ones(ovr.shape)\n",
    "            weight[ovr > iou_threshold] = weight[ovr > iou_threshold] - ovr[ovr > iou_threshold]\n",
    "        elif method == 2:  # gaussian\n",
    "            weight = np.exp(-(ovr * ovr) / sigma)\n",
    "        else:  # original NMS\n",
    "            weight = np.ones(ovr.shape)\n",
    "            weight[ovr > iou_threshold] = 0\n",
    "\n",
    "        scores[pos:] = weight * scores[pos:]\n",
    "\n",
    "    # select the boxes and keep the corresponding indexes\n",
    "    inds = boxes[:, 4][scores > thresh]\n",
    "    keep = inds.astype(int)\n",
    "\n",
    "    return keep"
   ],
   "metadata": {
    "collapsed": false,
    "pycharm": {
     "name": "#%%\n"
    }
   }
  }
 ],
 "metadata": {
  "kernelspec": {
   "display_name": "Python 3",
   "language": "python",
   "name": "python3"
  },
  "language_info": {
   "codemirror_mode": {
    "name": "ipython",
    "version": 2
   },
   "file_extension": ".py",
   "mimetype": "text/x-python",
   "name": "python",
   "nbconvert_exporter": "python",
   "pygments_lexer": "ipython2",
   "version": "2.7.6"
  }
 },
 "nbformat": 4,
 "nbformat_minor": 0
}